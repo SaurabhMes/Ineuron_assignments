{
 "cells": [
  {
   "cell_type": "markdown",
   "metadata": {},
   "source": [
    "1. Explain what inheritance is in object-oriented programming and why it is used.\n",
    "\n",
    "Inheritance is a mechanism in OOP that allows a class (called the derived class or subclass) to inherit attributes and behaviors (methods) from another class (called the base class or superclass). This allows for code reuse and the creation of hierarchical relationships between classes. It is used to:\n",
    "\n",
    "Promote code reuse: Derived classes can use code already implemented in base classes.\n",
    "\n",
    "Model real-world relationships: For example, a \"Dog\" class can inherit from an \"Animal\" class, representing a \"Dog\" as a specialized type of \"Animal\".\n",
    "\n",
    "Maintain flexibility and scalability: Inheritance allows the addition of new classes and features without changing existing code."
   ]
  },
  {
   "cell_type": "markdown",
   "metadata": {},
   "source": [
    "2. Discuss the concept of single inheritance and multiple inheritance, highlighting their differences and advantages.\n",
    "\n",
    "Single Inheritance: A class inherits from only one base class.\n",
    "Example: A \"Car\" class inherits from a \"Vehicle\" class.\n",
    "Advantages: Simpler to implement and understand; avoids complications.\n",
    "Disadvantages: Less flexible when there is a need to combine functionality from multiple classes.\n",
    "\n",
    "Multiple Inheritance: A class inherits from more than one base class.\n",
    "Example: A \"FlyingCar\" class inherits from both \"Car\" and \"Airplane\".\n",
    "Advantages: More flexible; can combine functionality from multiple base classes.\n",
    "Disadvantages: Can lead to ambiguity (e.g., the Diamond Problem, where multiple base classes have the same method).\n",
    "\n"
   ]
  },
  {
   "cell_type": "markdown",
   "metadata": {},
   "source": [
    "3. Explain the terms \"base class\" and \"derived class\" in the context of inheritance.\n",
    "\n",
    "Base Class (Super Class): The class from which attributes and methods are inherited. It is often more general and provides shared functionality for multiple derived classes.\n",
    "Example: \"Vehicle\" is a base class for \"Car\" and \"Bike.\"\n",
    "\n",
    "Derived Class (Sub Class): A class that inherits attributes and behaviors from a base class. It can also add new attributes or methods or override base class methods.\n",
    "Example: \"Car\" is a derived class from \"Vehicle\" and can add new methods or properties specific to cars.\n",
    "\n"
   ]
  },
  {
   "cell_type": "markdown",
   "metadata": {},
   "source": [
    "4. What is the significance of the \"protected\" access modifier in inheritance? How does it differ from \"private\" and \"public\" modifiers?\n",
    "\n",
    "The \"protected\" access modifier makes a member accessible within the class and its derived classes but not from outside.\n",
    "\n",
    "Private: The member is accessible only within the class it is declared in.\n",
    "\n",
    "Public: The member is accessible from anywhere.\n",
    "\n",
    "Protected: The member is accessible within the class itself and by derived classes, but not from outside the class hierarchy."
   ]
  },
  {
   "cell_type": "code",
   "execution_count": 3,
   "metadata": {},
   "outputs": [],
   "source": [
    "#Example:\n",
    "class Parent:\n",
    "    protected_var = 10  # Protected variable\n",
    "\n",
    "class Child(Parent):\n",
    "    def access_protected(self):\n",
    "        print(self.protected_var)  # Can access protected member"
   ]
  },
  {
   "cell_type": "markdown",
   "metadata": {},
   "source": [
    "5. What is the purpose of the \"super\" keyword in inheritance? Provide an example.\n",
    "\n",
    "The \"super\" keyword is used to call methods or access attributes from a base class. It is often used in the constructor or method of a derived class to ensure that the base class is properly initialized or to override its functionality while still utilizing the base class functionality.\n",
    "\n"
   ]
  },
  {
   "cell_type": "code",
   "execution_count": null,
   "metadata": {},
   "outputs": [],
   "source": [
    "# Example:\n",
    "class Animal:\n",
    "    def __init__(self, name):\n",
    "        self.name = name\n",
    "\n",
    "class Dog(Animal):\n",
    "    def __init__(self, name, breed):\n",
    "        super().__init__(name)  # Calls the constructor of Animal\n",
    "        self.breed = breed\n",
    "\n",
    "dog = Dog(\"Rex\", \"Labrador\")\n",
    "print(dog.name)  # Output: Rex\n",
    "print(dog.breed)  # Output: Labrador\n",
    "\n"
   ]
  },
  {
   "cell_type": "markdown",
   "metadata": {},
   "source": [
    "6. Create a base class called \"Vehicle\" with attributes like \"make\", \"model\", and \"year\".\n",
    "Then, create a derived class called \"Car\" that inherits from \"Vehicle\" and adds an\n",
    "attribute called \"fuel_type\". Implement appropriate methods in both classes."
   ]
  },
  {
   "cell_type": "code",
   "execution_count": 11,
   "metadata": {},
   "outputs": [
    {
     "name": "stdout",
     "output_type": "stream",
     "text": [
      "2022 Toyota Camry - Fuel Type: Gasoline\n"
     ]
    }
   ],
   "source": [
    "class Vehicle:\n",
    "    def __init__(self, make, model, year):\n",
    "        self.make = make\n",
    "        self.model = model\n",
    "        self.year = year\n",
    "    \n",
    "    def display_info(self):\n",
    "        return f\"{self.year} {self.make} {self.model}\"\n",
    "\n",
    "class Car(Vehicle):\n",
    "    def __init__(self, make, model, year, fuel_type):\n",
    "        super().__init__(make, model, year)\n",
    "        self.fuel_type = fuel_type\n",
    "    \n",
    "    def display_car_info(self):\n",
    "        return f\"{self.display_info()} - Fuel Type: {self.fuel_type}\"\n",
    "\n",
    "car = Car(\"Toyota\", \"Camry\", 2022, \"Gasoline\")\n",
    "print(car.display_car_info())  # Output: 2022 Toyota Camry - Fuel Type: Gasoline\n"
   ]
  },
  {
   "cell_type": "markdown",
   "metadata": {},
   "source": [
    "7. Create a base class called \"Employee\" with attributes like \"name\" and \"salary.\"\n",
    "Derive two classes, \"Manager\" and \"Developer,\" from \"Employee.\" Add an additional\n",
    "attribute called \"department\" for the \"Manager\" class and \"programming_language\"\n",
    "for the \"Developer\" class."
   ]
  },
  {
   "cell_type": "code",
   "execution_count": 10,
   "metadata": {},
   "outputs": [
    {
     "name": "stdout",
     "output_type": "stream",
     "text": [
      "Name: John, Salary: 90000, Department: HR\n",
      "Name: Alice, Salary: 80000, Programming Language: Python\n"
     ]
    }
   ],
   "source": [
    "class Employee:\n",
    "    def __init__(self, name, salary):\n",
    "        self.name = name\n",
    "        self.salary = salary\n",
    "    \n",
    "    def display_employee_info(self):\n",
    "        return f\"Name: {self.name}, Salary: {self.salary}\"\n",
    "\n",
    "class Manager(Employee):\n",
    "    def __init__(self, name, salary, department):\n",
    "        super().__init__(name, salary)\n",
    "        self.department = department\n",
    "    \n",
    "    def display_manager_info(self):\n",
    "        return f\"{self.display_employee_info()}, Department: {self.department}\"\n",
    "\n",
    "class Developer(Employee):\n",
    "    def __init__(self, name, salary, programming_language):\n",
    "        super().__init__(name, salary)\n",
    "        self.programming_language = programming_language\n",
    "    \n",
    "    def display_developer_info(self):\n",
    "        return f\"{self.display_employee_info()}, Programming Language: {self.programming_language}\"\n",
    "\n",
    "manager = Manager(\"John\", 90000, \"HR\")\n",
    "developer = Developer(\"Alice\", 80000, \"Python\")\n",
    "print(manager.display_manager_info())\n",
    "print(developer.display_developer_info())\n"
   ]
  },
  {
   "cell_type": "markdown",
   "metadata": {},
   "source": [
    "8. Design a base class called \"Shape\" with attributes like \"colour\" and \"border_width.\"\n",
    "Create derived classes, \"Rectangle\" and \"Circle,\" that inherit from \"Shape\" and add\n",
    "specific attributes like \"length\" and \"width\" for the \"Rectangle\" class and \"radius\" for\n",
    "the \"Circle\" class."
   ]
  },
  {
   "cell_type": "code",
   "execution_count": 9,
   "metadata": {},
   "outputs": [
    {
     "name": "stdout",
     "output_type": "stream",
     "text": [
      "Colour: Red, Border Width: 5, Length: 10, Width: 5\n",
      "Colour: Blue, Border Width: 3, Radius: 7\n"
     ]
    }
   ],
   "source": [
    "class Shape:\n",
    "    def __init__(self, colour, border_width):\n",
    "        self.colour = colour\n",
    "        self.border_width = border_width\n",
    "    \n",
    "    def display_shape_info(self):\n",
    "        return f\"Colour: {self.colour}, Border Width: {self.border_width}\"\n",
    "\n",
    "class Rectangle(Shape):\n",
    "    def __init__(self, colour, border_width, length, width):\n",
    "        super().__init__(colour, border_width)\n",
    "        self.length = length\n",
    "        self.width = width\n",
    "    \n",
    "    def display_rectangle_info(self):\n",
    "        return f\"{self.display_shape_info()}, Length: {self.length}, Width: {self.width}\"\n",
    "\n",
    "class Circle(Shape):\n",
    "    def __init__(self, colour, border_width, radius):\n",
    "        super().__init__(colour, border_width)\n",
    "        self.radius = radius\n",
    "    \n",
    "    def display_circle_info(self):\n",
    "        return f\"{self.display_shape_info()}, Radius: {self.radius}\"\n",
    "\n",
    "rectangle = Rectangle(\"Red\", 5, 10, 5)\n",
    "circle = Circle(\"Blue\", 3, 7)\n",
    "print(rectangle.display_rectangle_info())\n",
    "print(circle.display_circle_info())\n"
   ]
  },
  {
   "cell_type": "markdown",
   "metadata": {},
   "source": [
    "9. Create a base class called \"Device\" with attributes like \"brand\" and \"model.\" Derive\n",
    "two classes, \"Phone\" and \"Tablet,\" from \"Device.\" Add specific attributes like\n",
    "\"screen_size\" for the \"Phone\" class and \"battery_capacity\" for the \"Tablet\" class."
   ]
  },
  {
   "cell_type": "code",
   "execution_count": 8,
   "metadata": {},
   "outputs": [
    {
     "name": "stdout",
     "output_type": "stream",
     "text": [
      "Brand: Apple, Model: iPhone 14, Screen Size: 6.1 inches\n",
      "Brand: Samsung, Model: Galaxy Tab, Battery Capacity: 8000 mAh\n"
     ]
    }
   ],
   "source": [
    "class Device:\n",
    "    def __init__(self, brand, model):\n",
    "        self.brand = brand\n",
    "        self.model = model\n",
    "    \n",
    "    def display_device_info(self):\n",
    "        return f\"Brand: {self.brand}, Model: {self.model}\"\n",
    "\n",
    "class Phone(Device):\n",
    "    def __init__(self, brand, model, screen_size):\n",
    "        super().__init__(brand, model)\n",
    "        self.screen_size = screen_size\n",
    "    \n",
    "    def display_phone_info(self):\n",
    "        return f\"{self.display_device_info()}, Screen Size: {self.screen_size} inches\"\n",
    "\n",
    "class Tablet(Device):\n",
    "    def __init__(self, brand, model, battery_capacity):\n",
    "        super().__init__(brand, model)\n",
    "        self.battery_capacity = battery_capacity\n",
    "    \n",
    "    def display_tablet_info(self):\n",
    "        return f\"{self.display_device_info()}, Battery Capacity: {self.battery_capacity} mAh\"\n",
    "\n",
    "phone = Phone(\"Apple\", \"iPhone 14\", 6.1)\n",
    "tablet = Tablet(\"Samsung\", \"Galaxy Tab\", 8000)\n",
    "print(phone.display_phone_info())\n",
    "print(tablet.display_tablet_info())\n"
   ]
  },
  {
   "cell_type": "markdown",
   "metadata": {},
   "source": [
    "10. Create a base class called \"BankAccount\" with attributes like \"account_number\" and\n",
    "\"balance.\" Derive two classes, \"SavingsAccount\" and \"CheckingAccount,\" from\n",
    "\"BankAccount.\" Add specific methods like \"calculate_interest\" for the\n",
    "\"SavingsAccount\" class and \"deduct_fees\" for the \"CheckingAccount\" class."
   ]
  },
  {
   "cell_type": "code",
   "execution_count": 12,
   "metadata": {},
   "outputs": [
    {
     "name": "stdout",
     "output_type": "stream",
     "text": [
      "30.0\n",
      "Account Number: 67890, Balance: 490\n"
     ]
    }
   ],
   "source": [
    "class BankAccount:\n",
    "    def __init__(self, account_number, balance):\n",
    "        self.account_number = account_number\n",
    "        self.balance = balance\n",
    "    \n",
    "    def display_account_info(self):\n",
    "        return f\"Account Number: {self.account_number}, Balance: {self.balance}\"\n",
    "\n",
    "class SavingsAccount(BankAccount):\n",
    "    def __init__(self, account_number, balance, interest_rate):\n",
    "        super().__init__(account_number, balance)\n",
    "        self.interest_rate = interest_rate\n",
    "    \n",
    "    def calculate_interest(self):\n",
    "        return self.balance * (self.interest_rate / 100)\n",
    "\n",
    "class CheckingAccount(BankAccount):\n",
    "    def __init__(self, account_number, balance, fee):\n",
    "        super().__init__(account_number, balance)\n",
    "        self.fee = fee\n",
    "    \n",
    "    def deduct_fees(self):\n",
    "        self.balance -= self.fee\n",
    "\n",
    "savings = SavingsAccount(\"12345\", 1000, 3)\n",
    "checking = CheckingAccount(\"67890\", 500, 10)\n",
    "print(savings.calculate_interest())\n",
    "checking.deduct_fees()\n",
    "print(checking.display_account_info())\n"
   ]
  }
 ],
 "metadata": {
  "kernelspec": {
   "display_name": "base",
   "language": "python",
   "name": "python3"
  },
  "language_info": {
   "codemirror_mode": {
    "name": "ipython",
    "version": 3
   },
   "file_extension": ".py",
   "mimetype": "text/x-python",
   "name": "python",
   "nbconvert_exporter": "python",
   "pygments_lexer": "ipython3",
   "version": "3.12.4"
  }
 },
 "nbformat": 4,
 "nbformat_minor": 2
}
