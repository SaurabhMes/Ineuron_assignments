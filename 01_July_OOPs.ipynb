{
 "cells": [
  {
   "cell_type": "markdown",
   "metadata": {},
   "source": [
    "1. What is the primary goal of Object-Oriented Programming (OOP)?\n",
    "\n",
    "The main goal of Object-Oriented Programming (OOP) is to create complex programs by grouping together related data and keep it from getting corrupted. It focuses mainly on the flexibility of making objects, usually for debugging or organizing your workflow better."
   ]
  },
  {
   "cell_type": "markdown",
   "metadata": {},
   "source": [
    "2. What is an object in Python?\n",
    "\n",
    "Objects are instances of a class, objects can store data and function."
   ]
  },
  {
   "cell_type": "markdown",
   "metadata": {},
   "source": [
    "3. What is a class in Python?\n",
    "\n",
    "Classes are templates for objects. It defines attributes and methods that the objects created from the class will have."
   ]
  },
  {
   "cell_type": "markdown",
   "metadata": {},
   "source": [
    "4. What are attributes and methods in a class?\n",
    "\n",
    "Attributes are variables that store data associated with an object. Methods are functions defined within a class that describe the behaviors or actions that an object can perform."
   ]
  },
  {
   "cell_type": "markdown",
   "metadata": {},
   "source": [
    "5. What is the difference between class variables and instance variables in Python?\n",
    "\n",
    "Class variables are shared by all instances of the class.\n",
    "Instance variables are unique to each object created from the class."
   ]
  },
  {
   "cell_type": "markdown",
   "metadata": {},
   "source": [
    "6. What is the purpose of the self parameter in Python class methods?\n",
    "\n",
    "The self parameter refers to the instance of the class. It is used to access attributes and methods of the current object."
   ]
  },
  {
   "cell_type": "code",
   "execution_count": 1,
   "metadata": {},
   "outputs": [
    {
     "name": "stdout",
     "output_type": "stream",
     "text": [
      "Title: To Kill a Mockingbird, Author: Harper Lee, Available copies: 5\n",
      "Title: To Kill a Mockingbird, Author: Harper Lee, Available copies: 4\n",
      "Title: To Kill a Mockingbird, Author: Harper Lee, Available copies: 5\n"
     ]
    }
   ],
   "source": [
    "#7.\n",
    "class Book:\n",
    "    def __init__(self, title, author, isbn, publication_year, available_copies):\n",
    "        self.title = title\n",
    "        self.author = author\n",
    "        self.isbn = isbn\n",
    "        self.publication_year = publication_year\n",
    "        self.available_copies = available_copies\n",
    "    \n",
    "    def check_out(self):\n",
    "        if self.available_copies > 0:\n",
    "            self.available_copies -= 1\n",
    "    \n",
    "    def return_book(self):\n",
    "        self.available_copies += 1\n",
    "    \n",
    "    def display_book_info(self):\n",
    "        print(f\"Title: {self.title}, Author: {self.author}, Available copies: {self.available_copies}\")\n",
    "\n",
    "# Create a new book instance\n",
    "book1 = Book(\"To Kill a Mockingbird\", \"Harper Lee\", \"978-0061120084\", 1960, 5)\n",
    "\n",
    "# Display book information\n",
    "book1.display_book_info() \n",
    "\n",
    "# Check out the book\n",
    "book1.check_out()\n",
    "\n",
    "# Display book information after checking out\n",
    "book1.display_book_info()\n",
    "\n",
    "# Return the book\n",
    "book1.return_book()\n",
    "\n",
    "# Display book information after returning\n",
    "book1.display_book_info()\n",
    "\n",
    "\n"
   ]
  },
  {
   "cell_type": "code",
   "execution_count": 2,
   "metadata": {},
   "outputs": [
    {
     "name": "stdout",
     "output_type": "stream",
     "text": [
      "Ticket ID: T12345, Event: Concert: Coldplay, Reserved: False\n",
      "Ticket ID: T12345, Event: Concert: Coldplay, Reserved: True\n",
      "Ticket ID: T12345, Event: Concert: Coldplay, Reserved: False\n"
     ]
    }
   ],
   "source": [
    "#8.\n",
    "class Ticket:\n",
    "    def __init__(self, ticket_id, event_name, event_date, venue, seat_number, price, is_reserved=False):\n",
    "        self.ticket_id = ticket_id\n",
    "        self.event_name = event_name\n",
    "        self.event_date = event_date\n",
    "        self.venue = venue\n",
    "        self.seat_number = seat_number\n",
    "        self.price = price\n",
    "        self.is_reserved = is_reserved\n",
    "    \n",
    "    def reserve_ticket(self):\n",
    "        if not self.is_reserved:\n",
    "            self.is_reserved = True\n",
    "    \n",
    "    def cancel_reservation(self):\n",
    "        if self.is_reserved:\n",
    "            self.is_reserved = False\n",
    "    \n",
    "    def display_ticket_info(self):\n",
    "        print(f\"Ticket ID: {self.ticket_id}, Event: {self.event_name}, Reserved: {self.is_reserved}\")\n",
    "\n",
    "# Create a new ticket instance\n",
    "ticket1 = Ticket(\"T12345\", \"Concert: Coldplay\", \"2025-05-15\", \"VCA Stadium\", \"A1\", 100)\n",
    "\n",
    "# Display ticket information before reserving\n",
    "ticket1.display_ticket_info()\n",
    "\n",
    "# Reserve the ticket\n",
    "ticket1.reserve_ticket()\n",
    "\n",
    "# Display ticket information after reserving\n",
    "ticket1.display_ticket_info()\n",
    "\n",
    "# Cancel the reservation\n",
    "ticket1.cancel_reservation()\n",
    "\n",
    "# Display ticket information after canceling reservation\n",
    "ticket1.display_ticket_info()"
   ]
  },
  {
   "cell_type": "code",
   "execution_count": 4,
   "metadata": {},
   "outputs": [
    {
     "name": "stdout",
     "output_type": "stream",
     "text": [
      "Items in cart: ['Laptop', 'Headphones', 'Phone Case']\n",
      "Items in cart: ['Laptop', 'Phone Case']\n",
      "Items in cart: []\n"
     ]
    }
   ],
   "source": [
    "#9.\n",
    "class ShoppingCart:\n",
    "    def __init__(self):\n",
    "        self.items = []\n",
    "    \n",
    "    def add_item(self, item):\n",
    "        self.items.append(item)\n",
    "    \n",
    "    def remove_item(self, item):\n",
    "        if item in self.items:\n",
    "            self.items.remove(item)\n",
    "    \n",
    "    def view_cart(self):\n",
    "        print(f\"Items in cart: {self.items}\")\n",
    "    \n",
    "    def clear_cart(self):\n",
    "        self.items = []\n",
    "\n",
    "# Create a new shopping cart instance\n",
    "cart = ShoppingCart()\n",
    "\n",
    "# Add items to the cart\n",
    "cart.add_item(\"Laptop\")\n",
    "cart.add_item(\"Headphones\")\n",
    "cart.add_item(\"Phone Case\")\n",
    "\n",
    "# View items in the cart\n",
    "cart.view_cart()\n",
    "\n",
    "# Remove an item from the cart\n",
    "cart.remove_item(\"Headphones\")\n",
    "\n",
    "# View items in the cart after removal\n",
    "cart.view_cart()\n",
    "\n",
    "# Clear the cart\n",
    "cart.clear_cart()\n",
    "\n",
    "# View items in the cart after clearing\n",
    "cart.view_cart()"
   ]
  },
  {
   "cell_type": "code",
   "execution_count": 3,
   "metadata": {},
   "outputs": [
    {
     "name": "stdout",
     "output_type": "stream",
     "text": [
      "{'2025-02-01': 'Present', '2025-02-02': 'Absent', '2025-02-03': 'Present', '2025-02-04': 'Present'}\n",
      "{'2025-02-01': 'Present', '2025-02-02': 'Absent', '2025-02-03': 'Present', '2025-02-04': 'Present', '2025-02-05': 'Absent'}\n",
      "60.0\n"
     ]
    }
   ],
   "source": [
    "#10.\n",
    "class Student:\n",
    "    def __init__(self, name, age, grade, student_id, attendance):\n",
    "        self.name = name\n",
    "        self.age = age\n",
    "        self.grade = grade\n",
    "        self.student_id = student_id\n",
    "        self.attendance = attendance\n",
    "    \n",
    "    def update_attendance(self, date, status):\n",
    "        self.attendance[date] = status\n",
    "    \n",
    "    def get_attendance(self):\n",
    "        return self.attendance\n",
    "    \n",
    "    def get_average_attendance(self):\n",
    "        present = sum(1 for status in self.attendance.values() if status == 'Present')\n",
    "        total_days = len(self.attendance)\n",
    "        return (present / total_days) * 100 if total_days > 0 else 0\n",
    "\n",
    "# Create a new student instance\n",
    "student = Student(\"John Doe\", 16, \"10th Grade\", \"S12345\", {\n",
    "    \"2025-02-01\": \"Present\",\n",
    "    \"2025-02-02\": \"Absent\",\n",
    "    \"2025-02-03\": \"Present\",\n",
    "    \"2025-02-04\": \"Present\"\n",
    "})\n",
    "\n",
    "# View current attendance\n",
    "print(student.get_attendance())  \n",
    "\n",
    "# Update attendance for a specific date\n",
    "student.update_attendance(\"2025-02-05\", \"Absent\")\n",
    "\n",
    "# View updated attendance\n",
    "print(student.get_attendance()) \n",
    "\n",
    "# Get the student's average attendance\n",
    "print(student.get_average_attendance())"
   ]
  }
 ],
 "metadata": {
  "kernelspec": {
   "display_name": "base",
   "language": "python",
   "name": "python3"
  },
  "language_info": {
   "codemirror_mode": {
    "name": "ipython",
    "version": 3
   },
   "file_extension": ".py",
   "mimetype": "text/x-python",
   "name": "python",
   "nbconvert_exporter": "python",
   "pygments_lexer": "ipython3",
   "version": "3.12.4"
  }
 },
 "nbformat": 4,
 "nbformat_minor": 2
}
