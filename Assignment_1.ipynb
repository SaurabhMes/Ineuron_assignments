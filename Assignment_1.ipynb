{
 "cells": [
  {
   "cell_type": "markdown",
   "metadata": {},
   "source": [
    "1. In the below elements which of them are values or an expression? eg:- values can be integer or string and expressions will be mathematical operators.\n",
    "\n",
    "Values:\n",
    "'hello' (string),\n",
    "-87.8 (float),\n",
    "6 (integer)\n",
    "Expressions:\n",
    "- (operator),\n",
    "/ (operator),\n",
    "+ (operator)"
   ]
  },
  {
   "cell_type": "markdown",
   "metadata": {},
   "source": [
    "2. What is the difference between string and variable?\n",
    "\n",
    "String: A sequence of characters enclosed in quotes, e.g., 'hello'.\n",
    "Variable: A named location used to store data in memory, e.g., name = 'Alice'."
   ]
  },
  {
   "cell_type": "markdown",
   "metadata": {},
   "source": [
    "3. Describe three different data types.\n",
    "\n",
    "Integer: Represents whole numbers (e.g., 5).\n",
    "Float: Represents decimal numbers (e.g., 3.14).\n",
    "String: Represents a sequence of characters (e.g., 'Hello')."
   ]
  },
  {
   "cell_type": "markdown",
   "metadata": {},
   "source": [
    "4. What is an expression made up of? What do all expressions do?\n",
    "\n",
    "An expression is made up of values, variables, and operators that compute a value.\n",
    "Expressions evaluate to a value."
   ]
  },
  {
   "cell_type": "markdown",
   "metadata": {},
   "source": [
    "5. This assignment statements, like spam = 10. What is the difference between an\n",
    "expression and a statement?\n",
    "\n",
    "Expression: Produces a value (e.g., 5 + 3).\n",
    "Statement: Performs an action but does not produce a value (e.g., spam = 10)."
   ]
  },
  {
   "cell_type": "markdown",
   "metadata": {},
   "source": [
    "6. After running the following code, what does the variable bacon contain?\n",
    "bacon = 22\n",
    "bacon + 1\n",
    "\n",
    "Answer: The variable bacon still contains 22. The expression bacon + 1 is evaluated but not assigned back to bacon."
   ]
  },
  {
   "cell_type": "markdown",
   "metadata": {},
   "source": [
    "7. What should the values of the following two terms be?\n",
    "'spam'+ 'spamspam'\n",
    "'spam'* 3\n",
    "\n",
    "'spam' + 'spamspam': 'spamspamspamspam'\n",
    "'spam' * 3: 'spamspamspam'\n",
    "\n"
   ]
  },
  {
   "cell_type": "markdown",
   "metadata": {},
   "source": [
    "8. Why is eggs a valid variable name while 100 is invalid?\n",
    "\n",
    "eggs is valid because it starts with a letter and follows variable naming rules.\n",
    "100 is invalid because variable names cannot start with a number."
   ]
  },
  {
   "cell_type": "markdown",
   "metadata": {},
   "source": [
    "9. What three functions can be used to get the integer, floating-point number, or string version of a value?\n",
    "\n",
    "int(): Converts to an integer.\n",
    "float(): Converts to a floating-point number.\n",
    "str(): Converts to a string."
   ]
  },
  {
   "cell_type": "markdown",
   "metadata": {},
   "source": [
    "10. Why does this expression cause an error? How can you fix it?\n",
    "'I have eaten' + 99 +'burritos.'\n",
    "\n",
    "Error: You cannot concatenate a string ('I have eaten ') with an integer (99).\n",
    "Fix: Convert 99 to a string:"
   ]
  }
 ],
 "metadata": {
  "language_info": {
   "name": "python"
  }
 },
 "nbformat": 4,
 "nbformat_minor": 2
}
